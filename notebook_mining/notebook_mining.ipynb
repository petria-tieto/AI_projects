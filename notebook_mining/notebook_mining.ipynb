{
 "cells": [
  {
   "cell_type": "markdown",
   "metadata": {},
   "source": [
    "## This notebook is intended for mining of an export from your favourite notebook application or emails exported from an account. \n",
    "### As an entrypoint you need to have a folder with exported files.\n",
    "#### before starting below, activate your virtual env"
   ]
  },
  {
   "cell_type": "code",
   "execution_count": 62,
   "metadata": {},
   "outputs": [
    {
     "data": {
      "text/plain": [
       "True"
      ]
     },
     "execution_count": 62,
     "metadata": {},
     "output_type": "execute_result"
    }
   ],
   "source": [
    "import os\n",
    "import requests\n",
    "import json\n",
    "from typing import List\n",
    "from dotenv import load_dotenv\n",
    "from bs4 import BeautifulSoup\n",
    "from IPython.display import Markdown, display, update_display\n",
    "from openai import OpenAI\n",
    "from io import BytesIO\n",
    "from PyPDF2 import PdfReader\n",
    "\n",
    "load_dotenv(override=True)"
   ]
  },
  {
   "cell_type": "code",
   "execution_count": 37,
   "metadata": {},
   "outputs": [
    {
     "name": "stdout",
     "output_type": "stream",
     "text": [
      "2 + 2 = 4.\n"
     ]
    }
   ],
   "source": [
    "# Setup local AI service\n",
    "MODEL = \"llama3.2\"\n",
    "openai = OpenAI(base_url=\"http://localhost:11434/v1\", api_key=\"ollama\")\n",
    "\n",
    "response = openai.chat.completions.create(\n",
    " model=MODEL,\n",
    " messages=[{\"role\": \"user\", \"content\": \"What is 2 + 2?\"}]\n",
    ")\n",
    "\n",
    "print(response.choices[0].message.content)"
   ]
  },
  {
   "cell_type": "code",
   "execution_count": 2,
   "metadata": {},
   "outputs": [
    {
     "name": "stdout",
     "output_type": "stream",
     "text": [
      "API key looks good so far\n"
     ]
    }
   ],
   "source": [
    "# Setup frontier model with paid API\n",
    "\n",
    "# load_dotenv()\n",
    "# api_key=os.getenv('OPENAI_API_KEY')\n",
    "\n",
    "# if api_key and api_key[:8]=='sk-proj-':\n",
    "#     print(\"API key looks good so far\")\n",
    "# else:\n",
    "#     print(\"There might be a problem with your API key? \")\n",
    "\n",
    "# MODEL='gpt-4o-mini'\n",
    "# openai=OpenAI()"
   ]
  },
  {
   "cell_type": "markdown",
   "metadata": {},
   "source": [
    "#### First remove files with no content"
   ]
  },
  {
   "cell_type": "markdown",
   "metadata": {},
   "source": [
    "#### Then manage attachment names. They are in \"...files\"-directories and mostly have not meaningful names."
   ]
  },
  {
   "cell_type": "code",
   "execution_count": 5,
   "metadata": {},
   "outputs": [],
   "source": [
    "from pathlib import Path\n",
    "import os\n",
    "import glob\n",
    "\n",
    "from bs4 import BeautifulSoup\n",
    "\n",
    "import shutil\n",
    "\n",
    "def remove_with_string(directory, contains_string):\n",
    "    # Loop through all items in the directory\n",
    "    for item in os.listdir(directory):\n",
    "        item_path = os.path.join(directory, item)\n",
    "        \n",
    "        # Check if the item contains the string \"(1)\"\n",
    "        if contains_string in item:\n",
    "            if os.path.isfile(item_path):\n",
    "                os.remove(item_path)\n",
    "                print(f'Removed file: {item}')\n",
    "            elif os.path.isdir(item_path):\n",
    "                shutil.rmtree(item_path)\n",
    "                print(f'Removed folder: {item}')\n",
    "\n",
    "\n",
    "def remove_obsolete_files(directory):\n",
    "    # Loop through all files in the directory\n",
    "    for filename in os.listdir(directory):\n",
    "        if filename.endswith('.html'):\n",
    "            filepath = os.path.join(directory, filename)\n",
    "            \n",
    "            # Open and parse the HTML file\n",
    "            with open(filepath, 'r', encoding='utf-8') as file:\n",
    "                soup = BeautifulSoup(file, 'html.parser')\n",
    "                \n",
    "                # Check if the content \"Untitled Attachment\" is in the file\n",
    "                if \"Untitled Attachment\" in soup.get_text():\n",
    "                    os.remove(filepath)\n",
    "                    print(f'Removed: {filename}')\n",
    "\n",
    "\n",
    "def get_file_extension(file_name):\n",
    "    # os.path.splitext jakaa tiedostonimen ja sen päätteen\n",
    "    _, extension = os.path.splitext(file_name)\n",
    "    return extension\n",
    "\n",
    "# Use glob to find directories ending with 'files'\n",
    "def update_names(root_dir):\n",
    "        directories = glob.glob(os.path.join(root_dir, '**/*files'), recursive=True)\n",
    "\n",
    "        # Iterate over the directories and rename files in subfolders\n",
    "        for directory in directories:\n",
    "            for root, _, files in os.walk(directory):\n",
    "                # Get the parent directory\n",
    "                new_directory=(directory.strip('.pdf files'))\n",
    "                new_directory=(new_directory.strip(' files'))\n",
    "                new_directory=\"\".join(new_directory.split())\n",
    "                \n",
    "                for i, file in enumerate(files):\n",
    "                    new_name = f\"{new_directory}_{i+1}{get_file_extension(file)}\"\n",
    "                    os.rename(os.path.join(directory, file), os.path.join(directory, new_name))\n",
    "                    "
   ]
  },
  {
   "cell_type": "code",
   "execution_count": null,
   "metadata": {},
   "outputs": [],
   "source": [
    "# Cleaning the files and folders\n",
    "#remove_with_string(os.getenv('LOCAL_DIRECTORY'),\" files\")\n",
    "#remove_obsolete_files(os.getenv('LOCAL_DIRECTORY'))\n",
    "#update_names(\")\n",
    "\n",
    "# read files \n",
    "#notebook = Directory('os.getenv('LOCAL_DIRECTORY')')\n",
    "#print(notebook.files)\n",
    "# read a pdf\n",
    "#article = PDF_Article('os.getenv('LOCAL_DIRECTORY')/......pdf')\n",
    "#print(article.text)\n",
    "# read a html\n",
    "#article = HTML_Article('os.getenv('LOCAL_DIRECTORY')/.......html')\n",
    "#print(article.title)\n",
    "#print(article.text)\n",
    "#display(Markdown(article.text))\n",
    "\n"
   ]
  },
  {
   "cell_type": "code",
   "execution_count": 16,
   "metadata": {},
   "outputs": [],
   "source": [
    "from pathlib import Path\n",
    "import os\n",
    "import glob\n",
    "\n",
    "class Directory:\n",
    "    \"\"\"A utility class to represent directory containing files\"\"\"\n",
    "\n",
    "    def __init__(self, path):\n",
    "\n",
    "        # Define the root directory to start the search\n",
    "        # Get a list of all files in the directory\n",
    "        files = [f for f in os.listdir(path) if os.path.isfile(os.path.join(path, f))]\n",
    "        print(files)\n",
    "        self.files = files                   "
   ]
  },
  {
   "cell_type": "code",
   "execution_count": 30,
   "metadata": {},
   "outputs": [],
   "source": [
    "# Create article class\n",
    "class PDF_Article:\n",
    "    def __init__(self, file_path):\n",
    "        \"\"\"\n",
    "        Create this Article object from the given file using the PyPDF2 library\n",
    "        \"\"\"\n",
    "        # Open the file in binary read mode\n",
    "        with open(file_path, 'rb') as file:\n",
    "            # Read the binary data\n",
    "            binary_data = file.read()\n",
    "\n",
    "        pdf_bytes = BytesIO(binary_data)\n",
    "        reader = PdfReader(pdf_bytes)\n",
    "    \n",
    "        text = \"\"\n",
    "        for page in reader.pages:\n",
    "            text += page.extract_text()\n",
    "    \n",
    "        self.text = text\n",
    "        self.title = reader.metadata.get(\"/Title\", \"No title found\")\n",
    "\n",
    "class HTML_Article:\n",
    "    def __init__(self, file_path):\n",
    "        \"\"\"\n",
    "        Create this Article object from the given file using the Soup library\n",
    "        \"\"\"\n",
    "        # Open the file in binary read mode\n",
    "        with open(file_path, 'r', encoding='utf-8') as file:\n",
    "            content = file.read()\n",
    "\n",
    "        # Parse the HTML content with BeautifulSoup\n",
    "        soup = BeautifulSoup(content, 'html.parser')\n",
    "        self.title = soup.title.string if soup.title else \"No title found\"\n",
    "        for irrelevant in soup.body([\"script\", \"style\", \"img\", \"input\"]):\n",
    "            irrelevant.decompose()\n",
    "        self.text = soup.body.get_text(separator=\"\\n\", strip=True)\n"
   ]
  },
  {
   "cell_type": "code",
   "execution_count": null,
   "metadata": {},
   "outputs": [],
   "source": [
    "print(len(notebook.files))"
   ]
  },
  {
   "cell_type": "code",
   "execution_count": 74,
   "metadata": {},
   "outputs": [
    {
     "name": "stdout",
     "output_type": "stream",
     "text": [
      "Selected files: 102\n"
     ]
    }
   ],
   "source": [
    "# Here is a Python script that selects files from the given directory based on the presence of specific keywords or phrases in their names:\n",
    "import os\n",
    "import ast\n",
    "\n",
    "def select_files(directory_path, keywords, extensions):\n",
    "    selected_files = []\n",
    "\n",
    "    for filename in os.listdir(directory_path):\n",
    "        # Check if any keyword is present in the filename\n",
    "        if any(keyword.lower() in filename.lower() for keyword in keywords):\n",
    "            # Check if the file has one of the specified extensions\n",
    "            if any(filename.lower().endswith(ext.lower()) for ext in extensions):\n",
    "                selected_files.append(filename)\n",
    "\n",
    "    return selected_files\n",
    "\n",
    "# Example usage\n",
    "# Define the keywords/phrases and directory path\n",
    "keywords = os.getenv('KEYWORDS1')\n",
    "keywords_list = ast.literal_eval(keywords)\n",
    "directory_path = os.getenv('LOCAL_DIRECTORY')\n",
    "extensions = ['.htm', '.html']\n",
    "\n",
    "# Initialize an empty list to store selected file names\n",
    "selected_files = []\n",
    "\n",
    "selected_files = select_files(directory_path, keywords_list, extensions)\n",
    "selected_files.sort()\n",
    "print(\"Selected files:\", len(selected_files))\n",
    "\n",
    "def create_articles(html_files,directory_path):\n",
    "    html_articles = []\n",
    "    for file in html_files:\n",
    "        html_articles.append(HTML_Article())\n"
   ]
  },
  {
   "cell_type": "markdown",
   "metadata": {},
   "source": [
    "Use a call to AI model to decide which files are relevant.\n",
    "We will use \"one shot prompting\" in which we provide an example of how it should respond in the prompt."
   ]
  },
  {
   "cell_type": "code",
   "execution_count": 44,
   "metadata": {},
   "outputs": [],
   "source": [
    "system_prompt = \"You are provided with a list of files. Add the contents of files a single file created in markdown. \\n\"\n",
    "\n",
    "user_prompt = \"You are given a list of files. If the file is HTML add the content in markdown. If the file is something else, add it as attachment \\n\"\n",
    "user_prompt += \n",
    "def messages_for():\n",
    "    return [\n",
    "        {\"role\": \"system\", \"content\": system_prompt},\n",
    "        {\"role\": \"user\", \"content\": user_prompt}\n",
    "    ]"
   ]
  },
  {
   "cell_type": "markdown",
   "metadata": {},
   "source": [
    "### Time to call AI API!"
   ]
  },
  {
   "cell_type": "code",
   "execution_count": null,
   "metadata": {},
   "outputs": [],
   "source": [
    "MODEL = \"llama3.2\"\n",
    "openai = OpenAI(base_url=\"http://localhost:11434/v1\", api_key=\"ollama\")\n",
    "\n",
    "response = openai.chat.completions.create(\n",
    "    model=MODEL,\n",
    "    messages=messages_for()\n",
    ")\n",
    "\n",
    "print(response.choices[0].message.content)"
   ]
  },
  {
   "cell_type": "code",
   "execution_count": null,
   "metadata": {},
   "outputs": [],
   "source": []
  }
 ],
 "metadata": {
  "kernelspec": {
   "display_name": "ai_env",
   "language": "python",
   "name": "python3"
  },
  "language_info": {
   "codemirror_mode": {
    "name": "ipython",
    "version": 3
   },
   "file_extension": ".py",
   "mimetype": "text/x-python",
   "name": "python",
   "nbconvert_exporter": "python",
   "pygments_lexer": "ipython3",
   "version": "3.11.11"
  }
 },
 "nbformat": 4,
 "nbformat_minor": 2
}
